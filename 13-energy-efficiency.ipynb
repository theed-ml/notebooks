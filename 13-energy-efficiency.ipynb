{
 "cells": [
  {
   "cell_type": "markdown",
   "metadata": {},
   "source": [
    "# Energy efficiency\n",
    "\n",
    "A multivariate linear regression model has been built to predict the heating load in a residential building based on a set of descriptive features, describing the characteristics of the building. Heating load is the amount of heat energy required to keep a building at a specific temperature, during winter regardless outside temperature. \n",
    "\n",
    "The descriptive features used were (a) the overall surface area of the building, (b) the height of the building, (c) the area of the building's roof, and (d) the percentage of wall area in the building that is glazed. This kind of model would be useful to architects or engineers when designing a new building.\n",
    "\n",
    "## Objective\n",
    "\n",
    "This notebook reproduces the analyzed published in the paper: _Accurate quantitative estimation of energy performance of residential buildings using statistical machine learning tools_\n",
    "\n",
    "## Energy efficient data set\n",
    "\n",
    "The dataset contains eight features, denoted by $X1, X2, \\ldots{}, X8$ and two outcomes variables named $y1$ and $y2$. The goal comprises in using the eight features to predict each of the two output variables.\n",
    "\n",
    "* **Attributes:**\n",
    "\n",
    "   * **X1**: relative compactness\n",
    "   * **X2**: surface area\n",
    "   * **X3**: wall area\n",
    "   * **X4**: roof area\n",
    "   * **X5**: overall height\n",
    "   * **X6**: orientation\n",
    "   * **X7**: glazing area\n",
    "   * **X8**: glazing area distribution\n",
    "   * **y1**: heating load\n",
    "   * **y2**: cooling load\n",
    "\n",
    "**Source**: https://archive.ics.uci.edu/ml/datasets/energy+efficiency\n",
    "\n",
    "## References\n",
    "\n",
    "  * Tsanas A, Xifara A. <a href=\"http://people.maths.ox.ac.uk/tsanas/Preprints/ENB2012.pdf\" target=\"_blank\"><em>Accurate quantitative estimation of energy performance of residential buildings using statistical machine learning tools</em></a>. Energy and Buildings. 2012 Jun 1;49:560-7."
   ]
  },
  {
   "cell_type": "markdown",
   "metadata": {},
   "source": [
    "### 1. Load the data energy efficiency data set"
   ]
  },
  {
   "cell_type": "code",
   "execution_count": null,
   "metadata": {},
   "outputs": [],
   "source": [
    "import sys\n",
    "assert sys.version_info >= (3, 6)\n",
    "\n",
    "import numpy\n",
    "assert numpy.__version__ >=\"1.17.3\" \n",
    "import numpy as np\n",
    "\n",
    "import matplotlib.pyplot as plt\n",
    "\n",
    "import pandas\n",
    "assert pandas.__version__ >= \"0.25.1\"\n",
    "import pandas as pd\n",
    "\n",
    "import xlrd\n",
    "assert xlrd.__version__ >= \"1.2.0\"\n",
    "\n",
    "import sklearn\n",
    "assert sklearn.__version__ >= \"0.21.3\"\n",
    "\n",
    "%matplotlib inline"
   ]
  },
  {
   "cell_type": "markdown",
   "metadata": {},
   "source": [
    "### 1. Loading the energy efficiency data set"
   ]
  },
  {
   "cell_type": "code",
   "execution_count": null,
   "metadata": {},
   "outputs": [],
   "source": [
    "energy_effiency = pandas.read_excel(\"https://archive.ics.uci.edu/ml/machine-learning-databases/00242/ENB2012_data.xlsx\")\n",
    "energy_effiency.shape"
   ]
  },
  {
   "cell_type": "code",
   "execution_count": null,
   "metadata": {},
   "outputs": [],
   "source": [
    "energy_effiency.head(n = 10)"
   ]
  }
 ],
 "metadata": {
  "kernelspec": {
   "display_name": "Python 3",
   "language": "python",
   "name": "python3"
  },
  "language_info": {
   "codemirror_mode": {
    "name": "ipython",
    "version": 3
   },
   "file_extension": ".py",
   "mimetype": "text/x-python",
   "name": "python",
   "nbconvert_exporter": "python",
   "pygments_lexer": "ipython3",
   "version": "3.7.4"
  }
 },
 "nbformat": 4,
 "nbformat_minor": 4
}
